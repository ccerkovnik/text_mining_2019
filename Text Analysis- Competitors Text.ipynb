{
 "cells": [
  {
   "cell_type": "code",
   "execution_count": 1,
   "metadata": {},
   "outputs": [],
   "source": [
    "%matplotlib inline\n",
    "\n",
    "import sqlite3\n",
    "import datetime  \n",
    "from collections import Counter\n",
    "import nltk\n",
    "import matplotlib \n",
    "import matplotlib.pyplot as plt\n",
    "from nltk import FreqDist"
   ]
  },
  {
   "cell_type": "code",
   "execution_count": 2,
   "metadata": {},
   "outputs": [],
   "source": [
    "#connecting to the database\n",
    "db = sqlite3.connect(\"reprocessing_competitors.db\") # creating connection to DB\n",
    "cur = db.cursor()"
   ]
  },
  {
   "cell_type": "markdown",
   "metadata": {},
   "source": [
    "I wanted to split up the Stryker and Sterile Med text so I created two seperate tables"
   ]
  },
  {
   "cell_type": "code",
   "execution_count": 3,
   "metadata": {},
   "outputs": [],
   "source": [
    "stryker= cur.execute('''CREATE TABLE IF NOT EXISTS stryker AS\n",
    "                        SELECT * FROM site_text\n",
    "                        WHERE base_url=\"http://sustainability.stryker.com/\"\n",
    "                        GROUP BY dt, base_url, url, text''')\n",
    "db.commit()"
   ]
  },
  {
   "cell_type": "code",
   "execution_count": 4,
   "metadata": {},
   "outputs": [],
   "source": [
    "sterile=cur.execute('''CREATE TABLE IF NOT EXISTS sterile_med AS\n",
    "                        SELECT * FROM site_text\n",
    "                        WHERE base_url=\"https://www.jnjmedicaldevices.com/en-US/service/reprocessing\"\n",
    "                        GROUP BY dt, base_url, url, text''')\n",
    "db.commit()"
   ]
  },
  {
   "cell_type": "code",
   "execution_count": 5,
   "metadata": {},
   "outputs": [],
   "source": [
    "# grabbing all the Stryker raw text and putting it into a list\n",
    "cur.execute('''SELECT distinct text FROM stryker''')\n",
    "sraw_text=[]\n",
    "for row in cur.fetchall() :\n",
    "    sraw_text.append(row[0])\n"
   ]
  },
  {
   "cell_type": "code",
   "execution_count": 6,
   "metadata": {},
   "outputs": [],
   "source": [
    "sw = nltk.corpus.stopwords.words(\"english\")\n"
   ]
  },
  {
   "cell_type": "code",
   "execution_count": 7,
   "metadata": {},
   "outputs": [],
   "source": [
    "#cleaning words\n",
    "swords=[]\n",
    "\n",
    "for text in sraw_text :\n",
    "    text = [word.lower() for word in text.split()] #making all the words lowercase\n",
    "    text = [word.strip() for word in text if word.isalpha()] # only alphabetic characters\n",
    "    text = [word for word in text if word not in sw] # getting rid of nothing words like the, and ,a \n",
    "    swords.extend(text)\n",
    "    "
   ]
  },
  {
   "cell_type": "code",
   "execution_count": 8,
   "metadata": {},
   "outputs": [
    {
     "name": "stdout",
     "output_type": "stream",
     "text": [
      "2193\n"
     ]
    }
   ],
   "source": [
    "#Counting non-stopwords\n",
    "scounter= Counter(swords)\n",
    "stotal=len(scounter)\n",
    "print(stotal)"
   ]
  },
  {
   "cell_type": "code",
   "execution_count": 9,
   "metadata": {},
   "outputs": [],
   "source": [
    "# Repeating above steps for sterile med\n",
    "cur.execute('''SELECT distinct text FROM sterile_med''')\n",
    "jraw_text=[]\n",
    "for row in cur.fetchall() :\n",
    "    jraw_text.append(row[0])\n"
   ]
  },
  {
   "cell_type": "code",
   "execution_count": 10,
   "metadata": {},
   "outputs": [],
   "source": [
    "jwords=[]\n",
    "\n",
    "for text in jraw_text :\n",
    "    text = [word.lower() for word in text.split()]\n",
    "    text = [word.strip() for word in text if word.isalpha()]\n",
    "    text = [word for word in text if word not in sw]\n",
    "    jwords.extend(text)\n",
    "    "
   ]
  },
  {
   "cell_type": "code",
   "execution_count": 11,
   "metadata": {},
   "outputs": [
    {
     "name": "stdout",
     "output_type": "stream",
     "text": [
      "3495\n"
     ]
    }
   ],
   "source": [
    "jcounter= Counter(jwords)\n",
    "jtotal=len(jcounter)\n",
    "print(jtotal)"
   ]
  },
  {
   "cell_type": "code",
   "execution_count": 12,
   "metadata": {
    "scrolled": true
   },
   "outputs": [
    {
     "name": "stdout",
     "output_type": "stream",
     "text": [
      "[('sustainability', 214), ('reprocessed', 186), ('reprocessing', 125), ('patient', 123), ('devices', 122), ('ifu', 118), ('stryker', 115), ('collection', 115), ('cables', 99), ('arthroscopic', 97), ('catheter', 93), ('hygia', 88), ('electrophysiology', 87), ('use', 86), ('savings', 78), ('care', 74), ('quality', 71), ('ep', 69), ('catheters', 67), ('general', 64), ('device', 64), ('environmental', 63), ('products', 62), ('product', 62), ('direct', 62)]\n"
     ]
    }
   ],
   "source": [
    "#getting 25 most used words\n",
    "smostfreq=scounter.most_common(25)\n",
    "print(smostfreq)"
   ]
  },
  {
   "cell_type": "code",
   "execution_count": 13,
   "metadata": {},
   "outputs": [
    {
     "name": "stdout",
     "output_type": "stream",
     "text": [
      "[('johnson', 580), ('use', 258), ('learn', 247), ('view', 240), ('information', 211), ('site', 202), ('products', 195), ('medical', 194), ('jobs', 187), ('system', 180), ('policy', 158), ('health', 142), ('back', 139), ('devices', 137), ('privacy', 132), ('legal', 131), ('healthcare', 125), ('care', 124), ('product', 118), ('new', 115), ('program', 115), ('innovation', 109), ('us', 108), ('global', 108), ('united', 105)]\n"
     ]
    }
   ],
   "source": [
    "jmostfreq=jcounter.most_common(25)\n",
    "print(jmostfreq)"
   ]
  },
  {
   "cell_type": "code",
   "execution_count": 14,
   "metadata": {},
   "outputs": [
    {
     "data": {
      "text/plain": [
       "5688"
      ]
     },
     "execution_count": 14,
     "metadata": {},
     "output_type": "execute_result"
    }
   ],
   "source": [
    "2193+3495"
   ]
  },
  {
   "cell_type": "code",
   "execution_count": 15,
   "metadata": {},
   "outputs": [],
   "source": [
    "#putting swords and jwords in NLTK text \n",
    "mystext=nltk.Text(swords)\n",
    "myjtext=nltk.Text(jwords)"
   ]
  },
  {
   "cell_type": "code",
   "execution_count": 16,
   "metadata": {},
   "outputs": [
    {
     "data": {
      "image/png": "[encoded data removed]",
      "text/plain": [
       "<Figure size 432x288 with 1 Axes>"
      ]
     },
     "metadata": {
      "needs_background": "light"
     },
     "output_type": "display_data"
    },
    {
     "data": {
      "text/plain": [
       "<matplotlib.axes._subplots.AxesSubplot at 0x1a1a23a4a8>"
      ]
     },
     "execution_count": 16,
     "metadata": {},
     "output_type": "execute_result"
    }
   ],
   "source": [
    "#doing frequncy plot for Stryker\n",
    "s2words=FreqDist(mystext)\n",
    "s2words.plot(25, cumulative=True)"
   ]
  },
  {
   "cell_type": "code",
   "execution_count": 17,
   "metadata": {},
   "outputs": [
    {
     "data": {
      "image/png": "[encoded data removed]",
      "text/plain": [
       "<Figure size 432x288 with 1 Axes>"
      ]
     },
     "metadata": {
      "needs_background": "light"
     },
     "output_type": "display_data"
    },
    {
     "data": {
      "text/plain": [
       "<matplotlib.axes._subplots.AxesSubplot at 0x1a1a3f4978>"
      ]
     },
     "execution_count": 17,
     "metadata": {},
     "output_type": "execute_result"
    }
   ],
   "source": [
    "#doing frequncy plot for Sterile Medical\n",
    "j2words=FreqDist(myjtext)\n",
    "j2words.plot(25, cumulative=True)"
   ]
  },
  {
   "cell_type": "markdown",
   "metadata": {},
   "source": [
    "To feel out this dataset I picked some key sales terms Stryker uses and compared it to Sterile Medical"
   ]
  },
  {
   "cell_type": "code",
   "execution_count": 18,
   "metadata": {},
   "outputs": [
    {
     "data": {
      "image/png": "[encoded data removed]",
      "text/plain": [
       "<Figure size 432x288 with 1 Axes>"
      ]
     },
     "metadata": {
      "needs_background": "light"
     },
     "output_type": "display_data"
    }
   ],
   "source": [
    "words=[ \"partnership\",\"savings\",\"saving\",\"ep\",\"surgical\",\"environmental\",\"service\",\n",
    "       \"catheter\",\"catheters\", \"fda\",\"quality\",\"customer\",\"financial\"]\n",
    "\n",
    "mystext.dispersion_plot(words)"
   ]
  },
  {
   "cell_type": "code",
   "execution_count": 19,
   "metadata": {},
   "outputs": [
    {
     "data": {
      "image/png": "[encoded data removed]",
      "text/plain": [
       "<Figure size 432x288 with 1 Axes>"
      ]
     },
     "metadata": {
      "needs_background": "light"
     },
     "output_type": "display_data"
    }
   ],
   "source": [
    "words=[ \"partnership\",\"savings\",\"saving\",\"ep\",\"surgical\",\"environmental\",\"service\",\n",
    "       \"catheter\",\"catheters\", \"fda\",\"quality\",\"customer\",\"financial\"]\n",
    "\n",
    "myjtext.dispersion_plot(words)"
   ]
  },
  {
   "cell_type": "markdown",
   "metadata": {},
   "source": [
    "Looks like there is a huge difference in the use of words ep, surgical,financial, service, savings I am going to\n",
    "run some more tests"
   ]
  },
  {
   "cell_type": "markdown",
   "metadata": {},
   "source": [
    "Starting with financial and savings.  If my hypothesis is right these words will be assciated with Johnson and Johnson for sterile med and Stryker's program for stryker."
   ]
  },
  {
   "cell_type": "code",
   "execution_count": 20,
   "metadata": {},
   "outputs": [
    {
     "data": {
      "text/plain": [
       "48"
      ]
     },
     "execution_count": 20,
     "metadata": {},
     "output_type": "execute_result"
    }
   ],
   "source": [
    "term_f='financial'\n",
    "scounter[term_f]"
   ]
  },
  {
   "cell_type": "code",
   "execution_count": 21,
   "metadata": {},
   "outputs": [
    {
     "data": {
      "text/plain": [
       "4"
      ]
     },
     "execution_count": 21,
     "metadata": {},
     "output_type": "execute_result"
    }
   ],
   "source": [
    "jcounter[term_f]"
   ]
  },
  {
   "cell_type": "code",
   "execution_count": 22,
   "metadata": {},
   "outputs": [
    {
     "name": "stdout",
     "output_type": "stream",
     "text": [
      "environmental stryker copyright\n"
     ]
    }
   ],
   "source": [
    "mystext.similar('financial')"
   ]
  },
  {
   "cell_type": "code",
   "execution_count": 23,
   "metadata": {},
   "outputs": [
    {
     "name": "stdout",
     "output_type": "stream",
     "text": [
      "executive medical communication scientific\n"
     ]
    }
   ],
   "source": [
    "myjtext.similar('financial')"
   ]
  },
  {
   "cell_type": "code",
   "execution_count": 24,
   "metadata": {},
   "outputs": [
    {
     "name": "stdout",
     "output_type": "stream",
     "text": [
      "together_sustainability learn_sustainability\n"
     ]
    }
   ],
   "source": [
    "mystext.common_contexts([\"financial\",\"environmental\"])"
   ]
  },
  {
   "cell_type": "code",
   "execution_count": 25,
   "metadata": {},
   "outputs": [
    {
     "name": "stdout",
     "output_type": "stream",
     "text": [
      "No common contexts were found\n"
     ]
    }
   ],
   "source": [
    "myjtext.common_contexts([\"financial\",\"environmental\"])"
   ]
  },
  {
   "cell_type": "code",
   "execution_count": 26,
   "metadata": {},
   "outputs": [
    {
     "name": "stdout",
     "output_type": "stream",
     "text": [
      "No common contexts were found\n"
     ]
    }
   ],
   "source": [
    "myjtext.common_contexts([\"financial\",\"johnson\"])"
   ]
  },
  {
   "cell_type": "code",
   "execution_count": 27,
   "metadata": {},
   "outputs": [
    {
     "name": "stdout",
     "output_type": "stream",
     "text": [
      "Displaying 25 of 48 matches:\n",
      "rivacy policy home better together financial sustainability patient care sustai\n",
      "te thank send home better together financial sustainability patient care sustai\n",
      "te thank send home better together financial sustainability patient care sustai\n",
      "ce designed promote sustainability financial value ep service provides supply c\n",
      "te thank send home better together financial sustainability patient care sustai\n",
      "te thank send home better together financial sustainability patient care sustai\n",
      "nce patient care initiatives learn financial sustainability many hospitals redu\n",
      "te thank send home better together financial sustainability patient care sustai\n",
      "te thank send home better together financial sustainability patient care sustai\n",
      "te thank send home better together financial sustainability patient care sustai\n",
      "te thank send home better together financial sustainability patient care sustai\n",
      "te thank send home better together financial sustainability patient care sustai\n",
      "te thank send home better together financial sustainability patient care sustai\n",
      "te thank send home better together financial sustainability patient care sustai\n",
      "te thank send home better together financial sustainability patient care sustai\n",
      "ce designed promote sustainability financial value ep service provides supply c\n",
      "te thank send home better together financial sustainability patient care sustai\n",
      "te thank send home better together financial sustainability patient care sustai\n",
      " care without compromising quality financial sustainability many hospitals redu\n",
      "te thank send home better together financial sustainability patient care sustai\n",
      " care without compromising quality financial sustainability many hospitals redu\n",
      "te thank send home better together financial sustainability patient care sustai\n",
      "te thank send home better together financial sustainability patient care sustai\n",
      "te thank send home better together financial sustainability patient care sustai\n",
      "hotos see see home better together financial sustainability patient care sustai\n"
     ]
    }
   ],
   "source": [
    "mystext.concordance(\"financial\")"
   ]
  },
  {
   "cell_type": "code",
   "execution_count": 28,
   "metadata": {},
   "outputs": [
    {
     "name": "stdout",
     "output_type": "stream",
     "text": [
      "Displaying 4 of 4 matches:\n",
      "in years patient may also eligible financial assistance surgical costs covered \n",
      "r joseph wolk executive vice chief financial officer alex gorsky board director\n",
      "rce significant patient discomfort financial acclarent products address learn t\n",
      " decisions consumer read statement financial conflicts interest policy policy i\n"
     ]
    }
   ],
   "source": [
    "myjtext.concordance(\"financial\")"
   ]
  },
  {
   "cell_type": "code",
   "execution_count": 29,
   "metadata": {},
   "outputs": [
    {
     "data": {
      "text/plain": [
       "19"
      ]
     },
     "execution_count": 29,
     "metadata": {},
     "output_type": "execute_result"
    }
   ],
   "source": [
    "term= \"surgical\"\n",
    "scounter[term]\n",
    "\n"
   ]
  },
  {
   "cell_type": "code",
   "execution_count": 30,
   "metadata": {},
   "outputs": [
    {
     "data": {
      "text/plain": [
       "59"
      ]
     },
     "execution_count": 30,
     "metadata": {},
     "output_type": "execute_result"
    }
   ],
   "source": [
    "term= \"surgical\"\n",
    "jcounter[term]\n"
   ]
  },
  {
   "cell_type": "code",
   "execution_count": 31,
   "metadata": {},
   "outputs": [
    {
     "name": "stdout",
     "output_type": "stream",
     "text": [
      "laparoscopic\n"
     ]
    }
   ],
   "source": [
    "mystext.similar(term)"
   ]
  },
  {
   "cell_type": "code",
   "execution_count": 32,
   "metadata": {},
   "outputs": [
    {
     "name": "stdout",
     "output_type": "stream",
     "text": [
      "important fracture\n"
     ]
    }
   ],
   "source": [
    "myjtext.similar(term)"
   ]
  },
  {
   "cell_type": "code",
   "execution_count": 33,
   "metadata": {},
   "outputs": [
    {
     "name": "stdout",
     "output_type": "stream",
     "text": [
      "Displaying 19 of 19 matches:\n",
      "lection savings direct product use surgical drill blades burs specially design\n",
      "ill blades burs specially designed surgical accessories help surgeon cut drill\n",
      "ms surgery reprocessing inspection surgical accessories logged upon receipt in\n",
      "patient positioners primarily used surgical procedures support position positi\n",
      " arthroscopic wands radiofrequency surgical tools designed removal dissection \n",
      "ect study compares defect reported surgical original equipment manufacturer bi\n",
      "els originally manufactured cooper surgical suture passers cedu product use re\n",
      "ocar seal lubricated ensure smooth surgical instrument exchange stopcocks test\n",
      "ernal fixation devices reprocessed surgical accessories reprocessed suture pas\n",
      "relations patients contact medical surgical equipment orthopaedics neurotechno\n",
      "ascular sage spine sports medicine surgical sustainability solutions trauma ex\n",
      " transport chairs support surfaces surgical suction surgical visualization tem\n",
      " support surfaces surgical suction surgical visualization temperature manageme\n",
      "ew sonopet iq read article medical surgical equipment care committed working i\n",
      "l blood flow limb create bloodless surgical tourniquet system consists pressur\n",
      "et pressure compress blood vessels surgical thus ensuring bloodless operative \n",
      "se scissor tips specially designed surgical instruments connect hand piece rod\n",
      " focus maximize value reprocessing surgical center healthcare provider rather \n",
      "s shining light practices days ago surgical centers see lot never cut regulate\n"
     ]
    }
   ],
   "source": [
    "mystext.concordance(term)"
   ]
  },
  {
   "cell_type": "code",
   "execution_count": 34,
   "metadata": {},
   "outputs": [
    {
     "name": "stdout",
     "output_type": "stream",
     "text": [
      "Displaying 25 of 59 matches:\n",
      " focus maximize value reprocessing surgical center healthcare provider rather \n",
      "s shining light practices days ago surgical centers see lot never cut regulate\n",
      "us surgeries spine sports medicine surgical stapling trauma uterine pelvic vas\n",
      "mprise biologically based products surgical conditions often difficult expensi\n",
      "edicine power tools shoulder spine surgical stapling trauma uterine pelvic vas\n",
      "tion tf acetabular revision system surgical automated system pinnacle acetabul\n",
      "us surgeries spine sports medicine surgical stapling trauma uterine pelvic vas\n",
      "mprise biologically based products surgical conditions often difficult expensi\n",
      "edicine power tools shoulder spine surgical stapling trauma uterine pelvic vas\n",
      "us surgeries spine sports medicine surgical stapling trauma uterine pelvic vas\n",
      "mprise biologically based products surgical conditions often difficult expensi\n",
      "edicine power tools shoulder spine surgical stapling trauma uterine pelvic vas\n",
      "us surgeries spine sports medicine surgical stapling trauma uterine pelvic vas\n",
      "us surgeries spine sports medicine surgical stapling trauma uterine pelvic vas\n",
      "evaluate rib fracture patients rib surgical stabilization severe rib fredric m\n",
      "us surgeries spine sports medicine surgical stapling trauma uterine pelvic vas\n",
      "mprise biologically based products surgical conditions often difficult expensi\n",
      "edicine power tools shoulder spine surgical stapling trauma uterine pelvic vas\n",
      "us surgeries spine sports medicine surgical stapling trauma uterine pelvic vas\n",
      "us surgeries spine sports medicine surgical stapling trauma uterine pelvic vas\n",
      "us surgeries spine sports medicine surgical stapling trauma uterine pelvic vas\n",
      "us surgeries spine sports medicine surgical stapling trauma uterine pelvic vas\n",
      "also eligible financial assistance surgical costs covered additional complicat\n",
      "roduct literature accepted plastic surgical procedures appropriately qualified\n",
      "us surgeries spine sports medicine surgical stapling trauma uterine pelvic vas\n"
     ]
    }
   ],
   "source": [
    "myjtext.concordance(term)"
   ]
  },
  {
   "cell_type": "code",
   "execution_count": 35,
   "metadata": {},
   "outputs": [
    {
     "data": {
      "text/plain": [
       "69"
      ]
     },
     "execution_count": 35,
     "metadata": {},
     "output_type": "execute_result"
    }
   ],
   "source": [
    "term1=\"ep\"\n",
    "scounter[term1]"
   ]
  },
  {
   "cell_type": "code",
   "execution_count": 36,
   "metadata": {},
   "outputs": [
    {
     "data": {
      "text/plain": [
       "5"
      ]
     },
     "execution_count": 36,
     "metadata": {},
     "output_type": "execute_result"
    }
   ],
   "source": [
    "jcounter[term1]"
   ]
  },
  {
   "cell_type": "code",
   "execution_count": 37,
   "metadata": {},
   "outputs": [
    {
     "name": "stdout",
     "output_type": "stream",
     "text": [
      "electrophysiology ultrasound ablation care tourniquet general leads\n",
      "oximeter introducer echocardiography original connector ice\n"
     ]
    }
   ],
   "source": [
    "mystext.similar(term1)"
   ]
  },
  {
   "cell_type": "code",
   "execution_count": 38,
   "metadata": {},
   "outputs": [
    {
     "name": "stdout",
     "output_type": "stream",
     "text": [
      "\n"
     ]
    }
   ],
   "source": [
    "myjtext.similar(term1)"
   ]
  },
  {
   "cell_type": "code",
   "execution_count": 39,
   "metadata": {},
   "outputs": [
    {
     "name": "stdout",
     "output_type": "stream",
     "text": [
      "Displaying 25 of 69 matches:\n",
      "nt positioners pulse oximeter sensors ep lab catheter introducer sheaths intra\n",
      "nt positioners pulse oximeter sensors ep lab catheter introducer sheaths intra\n",
      "nt positioners pulse oximeter sensors ep lab catheter introducer sheaths intra\n",
      " electrophysiology catheters includes ep catheters originally manufactured bar\n",
      "reprocessing decontamination accepted ep catheters undergo prolonged cleaning \n",
      "romote sustainability financial value ep service provides supply cost reductio\n",
      "ycling select catheters removal waste ep labs eligible program precious metals\n",
      " collection bin specs ifu reprocessed ep catheter ifus brochures platinum plus\n",
      "chures platinum plus program brochure ep cables sales sheet confidently outsou\n",
      "s sheet confidently outsourcing risks ep catheters sales sheet lasso nav eco c\n",
      "nt positioners pulse oximeter sensors ep lab catheter introducer sheaths intra\n",
      "nt positioners pulse oximeter sensors ep lab catheter introducer sheaths intra\n",
      "nt positioners pulse oximeter sensors ep lab catheter introducer sheaths intra\n",
      "sion ekg pulse oximetry sensors learn ep lab portfolio reprocessed devices ep \n",
      " ep lab portfolio reprocessed devices ep lab includes electrophysiology cathet\n",
      "nt positioners pulse oximeter sensors ep lab catheter introducer sheaths intra\n",
      "nt positioners pulse oximeter sensors ep lab catheter introducer sheaths intra\n",
      " ifu stryker hygia amdr legal contact ep lab cedu reprocessed products ep lab \n",
      "tact ep lab cedu reprocessed products ep lab ep catheters ep cables intracardi\n",
      " lab cedu reprocessed products ep lab ep catheters ep cables intracardiac echo\n",
      "rocessed products ep lab ep catheters ep cables intracardiac echocardiography \n",
      "troducer sheaths science reprocessing ep lab includes repeatable validation te\n",
      "ation identity control identification ep catheters individualized serial numbe\n",
      "cleaner electrical profile diagnostic ep catheter electrical tests measurement\n",
      "functionality reliability reprocessed ep catheters material integrity integrit\n"
     ]
    }
   ],
   "source": [
    "mystext.concordance(term1)"
   ]
  },
  {
   "cell_type": "code",
   "execution_count": 40,
   "metadata": {},
   "outputs": [
    {
     "name": "stdout",
     "output_type": "stream",
     "text": [
      "Displaying 5 of 5 matches:\n",
      "lation resources patients collaborate ep clinical resources reimbursement tran\n",
      "old biopsy forceps hot biopsy forceps ep lab ep diagnostic catheters ep cables\n",
      "psy forceps hot biopsy forceps ep lab ep diagnostic catheters ep cables ultras\n",
      "orceps ep lab ep diagnostic catheters ep cables ultrasound catheters steerable\n",
      " electrophysiology nov nov emea young ep academy germany joint arthroplasty no\n"
     ]
    }
   ],
   "source": [
    "myjtext.concordance(term1)"
   ]
  },
  {
   "cell_type": "code",
   "execution_count": 41,
   "metadata": {},
   "outputs": [
    {
     "data": {
      "text/plain": [
       "123"
      ]
     },
     "execution_count": 41,
     "metadata": {},
     "output_type": "execute_result"
    }
   ],
   "source": [
    "term2=\"patient\"\n",
    "scounter[term2]"
   ]
  },
  {
   "cell_type": "code",
   "execution_count": 42,
   "metadata": {},
   "outputs": [
    {
     "data": {
      "text/plain": [
       "26"
      ]
     },
     "execution_count": 42,
     "metadata": {},
     "output_type": "execute_result"
    }
   ],
   "source": [
    "jcounter[term2]"
   ]
  },
  {
   "cell_type": "code",
   "execution_count": 43,
   "metadata": {},
   "outputs": [
    {
     "name": "stdout",
     "output_type": "stream",
     "text": [
      "possible\n"
     ]
    }
   ],
   "source": [
    "mystext.similar(term2)"
   ]
  },
  {
   "cell_type": "code",
   "execution_count": 44,
   "metadata": {},
   "outputs": [
    {
     "name": "stdout",
     "output_type": "stream",
     "text": [
      "\n"
     ]
    }
   ],
   "source": [
    "myjtext.similar(term2)"
   ]
  },
  {
   "cell_type": "code",
   "execution_count": 45,
   "metadata": {},
   "outputs": [
    {
     "name": "stdout",
     "output_type": "stream",
     "text": [
      "Displaying 25 of 123 matches:\n",
      "r together financial sustainability patient care sustainability environmental s\n",
      "ables fall alarms air transfer mats patient positioners pulse oximeter sensors \n",
      "r together financial sustainability patient care sustainability environmental s\n",
      "ables fall alarms air transfer mats patient positioners pulse oximeter sensors \n",
      "od clot may used hospital including patient care specialty areas surgery reproc\n",
      "t compression sleeve ifus brochures patient care brochure savings sirect brochu\n",
      "r together financial sustainability patient care sustainability environmental s\n",
      "ables fall alarms air transfer mats patient positioners pulse oximeter sensors \n",
      "r together financial sustainability patient care sustainability environmental s\n",
      "ables fall alarms air transfer mats patient positioners pulse oximeter sensors \n",
      "fu stryker hygia amdr legal contact patient care opportunities redirecting savi\n",
      "unities redirecting savings matters patient care sustainability cedu customers \n",
      "lized savings reprocessing reinvest patient care advance patient care initiativ\n",
      "ssing reinvest patient care advance patient care initiatives savings realized r\n",
      "raining existing staff provide best patient care without compromising quality s\n",
      "r together financial sustainability patient care sustainability environmental s\n",
      "ables fall alarms air transfer mats patient positioners pulse oximeter sensors \n",
      "ng packaging clinically safely used patient care sustainability savings realize\n",
      "acturing program reinvested advance patient care initiatives learn financial su\n",
      "r together financial sustainability patient care sustainability environmental s\n",
      "ables fall alarms air transfer mats patient positioners pulse oximeter sensors \n",
      "r together financial sustainability patient care sustainability environmental s\n",
      "ables fall alarms air transfer mats patient positioners pulse oximeter sensors \n",
      "r together financial sustainability patient care sustainability environmental s\n",
      "ables fall alarms air transfer mats patient positioners pulse oximeter sensors \n"
     ]
    }
   ],
   "source": [
    "mystext.concordance(term2)"
   ]
  },
  {
   "cell_type": "code",
   "execution_count": 46,
   "metadata": {},
   "outputs": [
    {
     "name": "stdout",
     "output_type": "stream",
     "text": [
      "Displaying 25 of 26 matches:\n",
      "sible healthcare providers maintain patient care quality saving substantial amo\n",
      "onsisting members commercial single patient use device reprocessing remanufactu\n",
      "iders increase reduce costs improve patient protects interests members legislat\n",
      "eter atrial fibrillation read first patient treated biosense webster ide study \n",
      "ation read webster life legacy read patient enrollment completed ide study ther\n",
      "ation read biosense announces first patient treated study radiofrequency balloo\n",
      "ools resources including cases care patient education materials help optimize c\n",
      "triple aim goals improved increased patient reduced rib despite measurable clin\n",
      "n sign one chest wall courses learn patient selection get experience fixation u\n",
      "ocessing devices paramount ensuring patient since cleaning sterilization instru\n",
      "d opportunity work together advance patient working deliver innovative solution\n",
      "tions healthcare challenges advance patient care deliver clinical economic valu\n",
      "vating standard care working expand patient improve reduce health system costs \n",
      "tection confirmed rupture deflation patient receive two replacement breast impl\n",
      "ifetime rupture occurs within years patient may also eligible financial assista\n",
      "py link tweet embed tweet improving patient outcomes becomes top priority healt\n",
      "vice digital surgery solutions meet patient needs medtechcon jnjinnovation repl\n",
      " years double attunekneereplacement patient george mink told patientpavilion me\n",
      "s said double attunekneereplacement patient george mink patientpavilion medtech\n",
      "customer service multi departmental patient monitors compression sleeves pulse \n",
      "rway obstruction source significant patient discomfort financial acclarent prod\n",
      "aceuticals entering environment via patient excretion following use medicine ta\n",
      "ad statement statement interactions patient organizations recent role patient h\n",
      "s patient organizations recent role patient healthcare system changed recipient\n",
      "ls used laboratory settings advance patient safety johnson johnson operating co\n"
     ]
    }
   ],
   "source": [
    "myjtext.concordance(term2)"
   ]
  },
  {
   "cell_type": "code",
   "execution_count": 47,
   "metadata": {},
   "outputs": [
    {
     "data": {
      "text/plain": [
       "2"
      ]
     },
     "execution_count": 47,
     "metadata": {},
     "output_type": "execute_result"
    }
   ],
   "source": [
    "term3=\"partnership\"\n",
    "scounter[term3]\n"
   ]
  },
  {
   "cell_type": "code",
   "execution_count": 48,
   "metadata": {},
   "outputs": [
    {
     "data": {
      "text/plain": [
       "1"
      ]
     },
     "execution_count": 48,
     "metadata": {},
     "output_type": "execute_result"
    }
   ],
   "source": [
    "jcounter[term3]"
   ]
  },
  {
   "cell_type": "code",
   "execution_count": 49,
   "metadata": {},
   "outputs": [
    {
     "name": "stdout",
     "output_type": "stream",
     "text": [
      "Displaying 2 of 2 matches:\n",
      "ober proud continue tree planting partnership stryker sustainability solutions \n",
      "nored named among best workplaces partnership great place learn collaboration e\n"
     ]
    }
   ],
   "source": [
    "mystext.concordance(term3)"
   ]
  },
  {
   "cell_type": "code",
   "execution_count": 50,
   "metadata": {},
   "outputs": [
    {
     "name": "stdout",
     "output_type": "stream",
     "text": [
      "Displaying 1 of 1 matches:\n",
      " address public health challenges partnership chinese created hospital training\n"
     ]
    }
   ],
   "source": [
    "myjtext.concordance(term3)"
   ]
  },
  {
   "cell_type": "code",
   "execution_count": 51,
   "metadata": {},
   "outputs": [
    {
     "data": {
      "text/plain": [
       "580"
      ]
     },
     "execution_count": 51,
     "metadata": {},
     "output_type": "execute_result"
    }
   ],
   "source": [
    "term4=\"johnson\"\n",
    "jcounter[term4]"
   ]
  },
  {
   "cell_type": "code",
   "execution_count": 52,
   "metadata": {},
   "outputs": [
    {
     "name": "stdout",
     "output_type": "stream",
     "text": [
      "family contact innovation combating part operating us medical one\n",
      "october read products careers corporate business conduct statements\n",
      "privacy serve rights\n"
     ]
    }
   ],
   "source": [
    "myjtext.similar(term4)"
   ]
  },
  {
   "cell_type": "code",
   "execution_count": 53,
   "metadata": {
    "scrolled": true
   },
   "outputs": [
    {
     "name": "stdout",
     "output_type": "stream",
     "text": [
      "Displaying 25 of 580 matches:\n",
      "rocurement social impact contact us johnson johnson janssen pharmaceutical comp\n",
      "nt social impact contact us johnson johnson janssen pharmaceutical companies jo\n",
      "on janssen pharmaceutical companies johnson johnson johnson johnson innovation \n",
      "en pharmaceutical companies johnson johnson johnson johnson innovation advancin\n",
      "aceutical companies johnson johnson johnson johnson innovation advancing new he\n",
      "l companies johnson johnson johnson johnson innovation advancing new healthcare\n",
      " healthcare solutions collaboration johnson johnson medical devices companies r\n",
      "are solutions collaboration johnson johnson medical devices companies reimagini\n",
      "ety care commitment safety priority johnson johnson story learn rich heritage d\n",
      " commitment safety priority johnson johnson story learn rich heritage digital m\n",
      " current information made available johnson johnson contact us questions search\n",
      " information made available johnson johnson contact us questions search site ee\n",
      " gina supplement contents copyright johnson johnson rights explore johnson john\n",
      "pplement contents copyright johnson johnson rights explore johnson johnson aust\n",
      "ight johnson johnson rights explore johnson johnson australia argentina brazil \n",
      "nson johnson rights explore johnson johnson australia argentina brazil canada c\n",
      "holders annual meeting shareholders johnson johnson annual meeting april doors \n",
      "annual meeting shareholders johnson johnson annual meeting april doors open hya\n",
      "rocurement social impact contact us johnson johnson janssen pharmaceutical comp\n",
      "nt social impact contact us johnson johnson janssen pharmaceutical companies jo\n",
      "on janssen pharmaceutical companies johnson johnson johnson johnson innovation \n",
      "en pharmaceutical companies johnson johnson johnson johnson innovation advancin\n",
      "aceutical companies johnson johnson johnson johnson innovation advancing new he\n",
      "l companies johnson johnson johnson johnson innovation advancing new healthcare\n",
      " healthcare solutions collaboration johnson johnson medical devices companies r\n"
     ]
    }
   ],
   "source": [
    "myjtext.concordance(term4)"
   ]
  },
  {
   "cell_type": "code",
   "execution_count": 54,
   "metadata": {},
   "outputs": [
    {
     "data": {
      "text/plain": [
       "63"
      ]
     },
     "execution_count": 54,
     "metadata": {},
     "output_type": "execute_result"
    }
   ],
   "source": [
    "term13=\"environmental\"\n",
    "scounter[term13]"
   ]
  },
  {
   "cell_type": "code",
   "execution_count": 55,
   "metadata": {},
   "outputs": [
    {
     "data": {
      "text/plain": [
       "22"
      ]
     },
     "execution_count": 55,
     "metadata": {},
     "output_type": "execute_result"
    }
   ],
   "source": [
    "jcounter[term13]"
   ]
  },
  {
   "cell_type": "code",
   "execution_count": 56,
   "metadata": {},
   "outputs": [
    {
     "name": "stdout",
     "output_type": "stream",
     "text": [
      "Displaying 22 of 22 matches:\n",
      "device technologies recent posts environmental health regulation reprocessing s\n",
      "ison hanson october comes action environmental canadians among among first phas\n",
      "pact global public health global environmental health citizenship sustainabilit\n",
      "pact global public health global environmental health citizenship sustainabilit\n",
      "pact global public health global environmental health citizenship sustainabilit\n",
      "pact global public health global environmental health citizenship sustainabilit\n",
      "hip recognized state prestigious environmental stewardship awarded warsaw facil\n",
      "bership contributions continuous environmental improvements demonstration compl\n",
      "vements demonstration compliance environmental depuy synthes companies faciliti\n",
      "on johnson sustainability awards environmental global sites work toward highest\n",
      "pact global public health global environmental health citizenship sustainabilit\n",
      "pact global public health global environmental health citizenship sustainabilit\n",
      "systems reduce expenses decrease environmental impact meeting exceeding oem med\n",
      "g reprocessing also helps reduce environmental benefits hospitals us produce fi\n",
      "eprocessing devices helps reduce environmental provide customized reports regar\n",
      "egarding progress toward savings environmental engage inspire staff maximize re\n",
      "mber health research educational environmental sustainability value health rese\n",
      "pact global public health global environmental health citizenship sustainabilit\n",
      "pact global public health global environmental health citizenship sustainabilit\n",
      "human health inextricably linked environmental healthy people without healthy m\n",
      "ep massage sensory safe bug care environmental skin protection ease use solutio\n",
      "s baby care baby care oily aging environmental sunscreen compliance sensory bod\n"
     ]
    }
   ],
   "source": [
    "myjtext.concordance(term13)"
   ]
  },
  {
   "cell_type": "code",
   "execution_count": 57,
   "metadata": {
    "scrolled": true
   },
   "outputs": [
    {
     "name": "stdout",
     "output_type": "stream",
     "text": [
      "Displaying 25 of 63 matches:\n",
      "lity patient care sustainability environmental sustainability products safety q\n",
      "port efforts reduce supply costs environmental participating organizations driv\n",
      "lity patient care sustainability environmental sustainability products safety q\n",
      "port efforts reduce supply costs environmental participating organizations driv\n",
      "lity patient care sustainability environmental sustainability products safety q\n",
      "lity patient care sustainability environmental sustainability products safety q\n",
      "lity patient care sustainability environmental sustainability products safety q\n",
      "ompromising quality safety learn environmental sustainability reprocessing faci\n",
      "lity patient care sustainability environmental sustainability products safety q\n",
      "lity patient care sustainability environmental sustainability products safety q\n",
      "lity patient care sustainability environmental sustainability products safety q\n",
      "lity patient care sustainability environmental sustainability products safety q\n",
      "port efforts reduce supply costs environmental participating organizations driv\n",
      "lity patient care sustainability environmental sustainability products safety q\n",
      "port efforts reduce supply costs environmental participating organizations driv\n",
      "lity patient care sustainability environmental sustainability products safety q\n",
      "ent positioners cedu product use environmental benefit product use foam patient\n",
      "odate different positions needed environmental benefit patient positioners made\n",
      "lity patient care sustainability environmental sustainability products safety q\n",
      "lity patient care sustainability environmental sustainability products safety q\n",
      "lity patient care sustainability environmental sustainability products safety q\n",
      "port efforts reduce supply costs environmental participating organizations driv\n",
      "lity patient care sustainability environmental sustainability products safety q\n",
      "e patient care initiatives learn environmental sustainability employ local sale\n",
      "lity patient care sustainability environmental sustainability products safety q\n"
     ]
    }
   ],
   "source": [
    "mystext.concordance(term13)"
   ]
  },
  {
   "cell_type": "markdown",
   "metadata": {},
   "source": [
    "I did another lexical diversity plots to visualize the word analysis, that I did in the previous cells.\n"
   ]
  },
  {
   "cell_type": "code",
   "execution_count": 58,
   "metadata": {},
   "outputs": [
    {
     "data": {
      "image/png": "[encoded data removed]",
      "text/plain": [
       "<Figure size 432x288 with 1 Axes>"
      ]
     },
     "metadata": {
      "needs_background": "light"
     },
     "output_type": "display_data"
    }
   ],
   "source": [
    "overview_words=['financial',\"surgical\",\"ep\",\"patient\",\"partnership\",\"johnson\",\"environmental\"]\n",
    "mystext.dispersion_plot(overview_words)"
   ]
  },
  {
   "cell_type": "code",
   "execution_count": 59,
   "metadata": {},
   "outputs": [
    {
     "data": {
      "image/png": "[encoded data removed]",
      "text/plain": [
       "<Figure size 432x288 with 1 Axes>"
      ]
     },
     "metadata": {
      "needs_background": "light"
     },
     "output_type": "display_data"
    }
   ],
   "source": [
    "myjtext.dispersion_plot(overview_words)"
   ]
  },
  {
   "cell_type": "markdown",
   "metadata": {},
   "source": [
    "I then decided to look at how both Stryker and Sterile Medical talked about their products and how frequently."
   ]
  },
  {
   "cell_type": "code",
   "execution_count": 60,
   "metadata": {},
   "outputs": [
    {
     "data": {
      "text/plain": [
       "54"
      ]
     },
     "execution_count": 60,
     "metadata": {},
     "output_type": "execute_result"
    }
   ],
   "source": [
    "term5=\"oximeter\"\n",
    "scounter[term5]"
   ]
  },
  {
   "cell_type": "code",
   "execution_count": 61,
   "metadata": {},
   "outputs": [
    {
     "data": {
      "text/plain": [
       "1"
      ]
     },
     "execution_count": 61,
     "metadata": {},
     "output_type": "execute_result"
    }
   ],
   "source": [
    "jcounter[term5]"
   ]
  },
  {
   "cell_type": "code",
   "execution_count": 62,
   "metadata": {},
   "outputs": [
    {
     "name": "stdout",
     "output_type": "stream",
     "text": [
      "Displaying 25 of 54 matches:\n",
      "fer mats patient positioners pulse oximeter sensors ep lab catheter introducer\n",
      "fer mats patient positioners pulse oximeter sensors ep lab catheter introducer\n",
      "fer mats patient positioners pulse oximeter sensors ep lab catheter introducer\n",
      "fer mats patient positioners pulse oximeter sensors ep lab catheter introducer\n",
      "fer mats patient positioners pulse oximeter sensors ep lab catheter introducer\n",
      "fer mats patient positioners pulse oximeter sensors ep lab catheter introducer\n",
      "fer mats patient positioners pulse oximeter sensors ep lab catheter introducer\n",
      "fer mats patient positioners pulse oximeter sensors ep lab catheter introducer\n",
      "fer mats patient positioners pulse oximeter sensors ep lab catheter introducer\n",
      "fer mats patient positioners pulse oximeter sensors ep lab catheter introducer\n",
      "fer mats patient positioners pulse oximeter sensors ep lab catheter introducer\n",
      "fer mats patient positioners pulse oximeter sensors ep lab catheter introducer\n",
      "fer mats patient positioners pulse oximeter sensors ep lab catheter introducer\n",
      "fer mats patient positioners pulse oximeter sensors ep lab catheter introducer\n",
      "fer mats patient positioners pulse oximeter sensors ep lab catheter introducer\n",
      "fer mats patient positioners pulse oximeter sensors ep lab catheter introducer\n",
      "fer mats patient positioners pulse oximeter sensors ep lab catheter introducer\n",
      "fer mats patient positioners pulse oximeter sensors ep lab catheter introducer\n",
      "fer mats patient positioners pulse oximeter sensors ep lab catheter introducer\n",
      "fer mats patient positioners pulse oximeter sensors ep lab catheter introducer\n",
      "fer mats patient positioners pulse oximeter sensors ep lab catheter introducer\n",
      "essed products general floor pulse oximeter sensor deep vein thrombosis sleeve\n",
      "terial integrity disassembly pulse oximeter sensor cerebral somatic sensor adh\n",
      "fs blue stryker hamper stand pulse oximeter ecg leads cables oximetry sensors \n",
      "fer mats patient positioners pulse oximeter sensors ep lab catheter introducer\n"
     ]
    }
   ],
   "source": [
    "mystext.concordance(term5)"
   ]
  },
  {
   "cell_type": "code",
   "execution_count": 63,
   "metadata": {},
   "outputs": [
    {
     "data": {
      "text/plain": [
       "11"
      ]
     },
     "execution_count": 63,
     "metadata": {},
     "output_type": "execute_result"
    }
   ],
   "source": [
    "term6=\"sleeve\"\n",
    "scounter[term6]"
   ]
  },
  {
   "cell_type": "code",
   "execution_count": 64,
   "metadata": {},
   "outputs": [
    {
     "data": {
      "text/plain": [
       "0"
      ]
     },
     "execution_count": 64,
     "metadata": {},
     "output_type": "execute_result"
    }
   ],
   "source": [
    "jcounter[term6]"
   ]
  },
  {
   "cell_type": "code",
   "execution_count": 65,
   "metadata": {},
   "outputs": [
    {
     "name": "stdout",
     "output_type": "stream",
     "text": [
      "Displaying 11 of 11 matches:\n",
      " original performance testing every sleeve inspected throughout various steps \n",
      "ecs ifu reprocessed dvt compression sleeve ifus brochures patient care brochur\n",
      "ngs sirect brochure dvt compression sleeve sales sheet clinical papers reproce\n",
      " reprocessed hygia aircast venaflow sleeve reprocessed hygia ambu perfit ace c\n",
      "uff reprocessed hygia ctc vasopress sleeve reprocessed hygia currie alp sleeve\n",
      "sleeve reprocessed hygia currie alp sleeve reprocessed hygia ecg leads reproce\n",
      "ot cuff reprocessed hygia huntleigh sleeve reprocessed hygia infusor bag repro\n",
      "g reprocessed hygia kendall comfort sleeve reprocessed hygia kendall express f\n",
      "processed hygia kendall express scd sleeve reprocessed hygia kendall impad rig\n",
      "cover reprocessed hygia kendall scd sleeve reprocessed hygia masimo lncs adult\n",
      "sed xcel universal trocar stability sleeve optiview technology copyright susta\n"
     ]
    }
   ],
   "source": [
    "mystext.concordance(term6)"
   ]
  },
  {
   "cell_type": "code",
   "execution_count": 66,
   "metadata": {},
   "outputs": [
    {
     "data": {
      "text/plain": [
       "34"
      ]
     },
     "execution_count": 66,
     "metadata": {},
     "output_type": "execute_result"
    }
   ],
   "source": [
    "term6=\"service\"\n",
    "scounter[term6]"
   ]
  },
  {
   "cell_type": "code",
   "execution_count": 67,
   "metadata": {
    "scrolled": true
   },
   "outputs": [
    {
     "data": {
      "text/plain": [
       "5"
      ]
     },
     "execution_count": 67,
     "metadata": {},
     "output_type": "execute_result"
    }
   ],
   "source": [
    "jcounter[term6]"
   ]
  },
  {
   "cell_type": "code",
   "execution_count": 68,
   "metadata": {},
   "outputs": [
    {
     "name": "stdout",
     "output_type": "stream",
     "text": [
      "Displaying 25 of 34 matches:\n",
      "nt legal duty furnish stryker terms service privacy policy home better together\n",
      "es use applied following trademarks service trademarks trademarks respective ow\n",
      "es use applied following trademarks service trademarks trademarks respective ow\n",
      " plus program platinum plus program service designed promote sustainability fin\n",
      "e sustainability financial value ep service provides supply cost reductions rec\n",
      "es use applied following trademarks service trademarks trademarks respective ow\n",
      "es use applied following trademarks service trademarks trademarks respective ow\n",
      "es use applied following trademarks service trademarks trademarks respective ow\n",
      " plus program platinum plus program service designed promote sustainability fin\n",
      "e sustainability financial value ep service provides supply cost reductions rec\n",
      "es use applied following trademarks service trademarks trademarks respective ow\n",
      "es use applied following trademarks service trademarks trademarks respective ow\n",
      "l sustainability employ local sales service representatives passionate deliveri\n",
      "l sustainability employ local sales service representatives passionate deliveri\n",
      "es use applied following trademarks service trademarks trademarks respective ow\n",
      "passers inspected contamination end service markings prevent successful reproce\n",
      "es use applied following trademarks service trademarks trademarks respective ow\n",
      " plus program platinum plus program service designed promote sustainability fin\n",
      "e sustainability financial value ep service provides supply cost reductions rec\n",
      "es use applied following trademarks service trademarks trademarks respective ow\n",
      "es use applied following trademarks service trademarks trademarks respective ow\n",
      "es use applied following trademarks service trademarks trademarks respective ow\n",
      "es use applied following trademarks service trademarks trademarks respective ow\n",
      "izing entire reprocessing dedicated service sales team manage collections provi\n",
      "es use applied following trademarks service trademarks trademarks respective ow\n"
     ]
    }
   ],
   "source": [
    "mystext.concordance(term6)"
   ]
  },
  {
   "cell_type": "code",
   "execution_count": 69,
   "metadata": {},
   "outputs": [
    {
     "name": "stdout",
     "output_type": "stream",
     "text": [
      "Displaying 5 of 5 matches:\n",
      " care systems also contact customer service multi departmental patient monitors\n",
      " care systems also contact customer service references decision resources repro\n",
      " care systems also contact customer service request information device collecti\n",
      "ources education training dedicated service goes beyond reprocessing one person\n",
      " care systems also contact customer service case study careadvantage johnson jo\n"
     ]
    }
   ],
   "source": [
    "myjtext.concordance(term6)"
   ]
  },
  {
   "cell_type": "code",
   "execution_count": 70,
   "metadata": {},
   "outputs": [
    {
     "data": {
      "text/plain": [
       "15"
      ]
     },
     "execution_count": 70,
     "metadata": {},
     "output_type": "execute_result"
    }
   ],
   "source": [
    "term7=\"collections\"\n",
    "scounter[term7]"
   ]
  },
  {
   "cell_type": "code",
   "execution_count": 71,
   "metadata": {},
   "outputs": [
    {
     "data": {
      "text/plain": [
       "3"
      ]
     },
     "execution_count": 71,
     "metadata": {},
     "output_type": "execute_result"
    }
   ],
   "source": [
    "jcounter[term7]"
   ]
  },
  {
   "cell_type": "code",
   "execution_count": 72,
   "metadata": {},
   "outputs": [
    {
     "name": "stdout",
     "output_type": "stream",
     "text": [
      "Displaying 15 of 15 matches:\n",
      " discarded nearby landfills learn collections sorting reprocessing inspection p\n",
      "g inspection purchasing receiving collections devices collected hospital utiliz\n",
      "tion collection efficiency ep lab collections customized fit containers methodi\n",
      "odically designed ensure maximize collections regardless space size program bui\n",
      "tion stryker containers also used collections surgery centers designated orthop\n",
      "d collection containers also used collections surgery centers designated orthop\n",
      "llection efficiency general floor collections customized fit containers methodi\n",
      "odically designed ensure maximize collections regardless space size program bui\n",
      "erilization collection efficiency collections customized fit containers designe\n",
      "ntainers designed ensure maximize collections regardless space size program bui\n",
      "dicated service sales team manage collections provide valuable case conduct bus\n",
      "agement perform education analyze collections provide ongoing account managemen\n",
      "d collection containers also used collections surgery centers designated orthop\n",
      "tion programs customized maximize collections waste diversion prioritization re\n",
      "customers increase pulse oximeter collections greater annually donate trees nat\n"
     ]
    }
   ],
   "source": [
    "mystext.concordance(term7)"
   ]
  },
  {
   "cell_type": "code",
   "execution_count": 73,
   "metadata": {},
   "outputs": [
    {
     "name": "stdout",
     "output_type": "stream",
     "text": [
      "Displaying 3 of 3 matches:\n",
      "ervice request information device collections multiple bin collection multiple \n",
      "ers work staff decide optimal bin collections staff training also help importan\n",
      "raining also help important piece collections training staff devices collect pl\n"
     ]
    }
   ],
   "source": [
    "myjtext.concordance(term7)"
   ]
  },
  {
   "cell_type": "code",
   "execution_count": 74,
   "metadata": {},
   "outputs": [
    {
     "data": {
      "text/plain": [
       "52"
      ]
     },
     "execution_count": 74,
     "metadata": {},
     "output_type": "execute_result"
    }
   ],
   "source": [
    "term8=\"ligasure\"\n",
    "scounter[term8]"
   ]
  },
  {
   "cell_type": "code",
   "execution_count": 75,
   "metadata": {},
   "outputs": [
    {
     "data": {
      "text/plain": [
       "0"
      ]
     },
     "execution_count": 75,
     "metadata": {},
     "output_type": "execute_result"
    }
   ],
   "source": [
    "jcounter[term8]"
   ]
  },
  {
   "cell_type": "code",
   "execution_count": 76,
   "metadata": {},
   "outputs": [
    {
     "name": "stdout",
     "output_type": "stream",
     "text": [
      "Displaying 25 of 52 matches:\n",
      "pic wands laparoscopic instruments ligasure pneumatic tourniquet cuffs scissor\n",
      "pic wands laparoscopic instruments ligasure pneumatic tourniquet cuffs scissor\n",
      "pic wands laparoscopic instruments ligasure pneumatic tourniquet cuffs scissor\n",
      "pic wands laparoscopic instruments ligasure pneumatic tourniquet cuffs scissor\n",
      "pic wands laparoscopic instruments ligasure pneumatic tourniquet cuffs scissor\n",
      "pic wands laparoscopic instruments ligasure pneumatic tourniquet cuffs scissor\n",
      "pic wands laparoscopic instruments ligasure pneumatic tourniquet cuffs scissor\n",
      "pic wands laparoscopic instruments ligasure pneumatic tourniquet cuffs scissor\n",
      "pic wands laparoscopic instruments ligasure pneumatic tourniquet cuffs scissor\n",
      "pic wands laparoscopic instruments ligasure pneumatic tourniquet cuffs scissor\n",
      "pic wands laparoscopic instruments ligasure pneumatic tourniquet cuffs scissor\n",
      "pic wands laparoscopic instruments ligasure pneumatic tourniquet cuffs scissor\n",
      "pic wands laparoscopic instruments ligasure pneumatic tourniquet cuffs scissor\n",
      "pic wands laparoscopic instruments ligasure pneumatic tourniquet cuffs scissor\n",
      "pic wands laparoscopic instruments ligasure pneumatic tourniquet cuffs scissor\n",
      "pic wands laparoscopic instruments ligasure pneumatic tourniquet cuffs scissor\n",
      "pic wands laparoscopic instruments ligasure pneumatic tourniquet cuffs scissor\n",
      "pic wands laparoscopic instruments ligasure pneumatic tourniquet cuffs scissor\n",
      "pic wands laparoscopic instruments ligasure pneumatic tourniquet cuffs scissor\n",
      "pic wands laparoscopic instruments ligasure pneumatic tourniquet cuffs scissor\n",
      "pic wands laparoscopic instruments ligasure pneumatic tourniquet cuffs scissor\n",
      "pic wands laparoscopic instruments ligasure pneumatic tourniquet cuffs scissor\n",
      "pic wands laparoscopic instruments ligasure scissor tips suture passers trocar\n",
      "pic wands laparoscopic instruments ligasure pneumatic tourniquet cuffs scissor\n",
      "pic wands laparoscopic instruments ligasure pneumatic tourniquet cuffs scissor\n"
     ]
    }
   ],
   "source": [
    "mystext.concordance(term8)"
   ]
  },
  {
   "cell_type": "code",
   "execution_count": 77,
   "metadata": {},
   "outputs": [
    {
     "data": {
      "text/plain": [
       "10"
      ]
     },
     "execution_count": 77,
     "metadata": {},
     "output_type": "execute_result"
    }
   ],
   "source": [
    "term11=\"harmonic\"\n",
    "scounter[term11]"
   ]
  },
  {
   "cell_type": "code",
   "execution_count": 78,
   "metadata": {},
   "outputs": [
    {
     "data": {
      "text/plain": [
       "0"
      ]
     },
     "execution_count": 78,
     "metadata": {},
     "output_type": "execute_result"
    }
   ],
   "source": [
    "jcounter[term11]"
   ]
  },
  {
   "cell_type": "code",
   "execution_count": 79,
   "metadata": {},
   "outputs": [
    {
     "name": "stdout",
     "output_type": "stream",
     "text": [
      "laparoscopic trocars order remanufactured trocar\n"
     ]
    }
   ],
   "source": [
    "mystext.similar(term8)"
   ]
  },
  {
   "cell_type": "code",
   "execution_count": 80,
   "metadata": {},
   "outputs": [
    {
     "data": {
      "text/plain": [
       "0"
      ]
     },
     "execution_count": 80,
     "metadata": {},
     "output_type": "execute_result"
    }
   ],
   "source": [
    "term9=\"stapling\"\n",
    "scounter[term9]"
   ]
  },
  {
   "cell_type": "code",
   "execution_count": 81,
   "metadata": {},
   "outputs": [
    {
     "data": {
      "text/plain": [
       "34"
      ]
     },
     "execution_count": 81,
     "metadata": {},
     "output_type": "execute_result"
    }
   ],
   "source": [
    "jcounter[term9]"
   ]
  },
  {
   "cell_type": "code",
   "execution_count": 82,
   "metadata": {},
   "outputs": [
    {
     "name": "stdout",
     "output_type": "stream",
     "text": [
      "Displaying 25 of 34 matches:\n",
      "ies spine sports medicine surgical stapling trauma uterine pelvic vascular acc\n",
      "ower tools shoulder spine surgical stapling trauma uterine pelvic vascular acc\n",
      "ies spine sports medicine surgical stapling trauma uterine pelvic vascular acc\n",
      "ower tools shoulder spine surgical stapling trauma uterine pelvic vascular acc\n",
      "ies spine sports medicine surgical stapling trauma uterine pelvic vascular acc\n",
      "ower tools shoulder spine surgical stapling trauma uterine pelvic vascular acc\n",
      "ies spine sports medicine surgical stapling trauma uterine pelvic vascular acc\n",
      "ies spine sports medicine surgical stapling trauma uterine pelvic vascular acc\n",
      "ies spine sports medicine surgical stapling trauma uterine pelvic vascular acc\n",
      "ower tools shoulder spine surgical stapling trauma uterine pelvic vascular acc\n",
      "ies spine sports medicine surgical stapling trauma uterine pelvic vascular acc\n",
      "ies spine sports medicine surgical stapling trauma uterine pelvic vascular acc\n",
      "ies spine sports medicine surgical stapling trauma uterine pelvic vascular acc\n",
      "ies spine sports medicine surgical stapling trauma uterine pelvic vascular acc\n",
      "ies spine sports medicine surgical stapling trauma uterine pelvic vascular acc\n",
      "ies spine sports medicine surgical stapling trauma uterine pelvic vascular acc\n",
      "e learn latest learning colorectal stapling colorectal surgery david md michel\n",
      "ies spine sports medicine surgical stapling trauma uterine pelvic vascular acc\n",
      "ower tools shoulder spine surgical stapling trauma uterine pelvic vascular acc\n",
      "ies spine sports medicine surgical stapling trauma uterine pelvic vascular acc\n",
      "ower tools shoulder spine surgical stapling trauma uterine pelvic vascular acc\n",
      "ies spine sports medicine surgical stapling trauma uterine pelvic vascular acc\n",
      "ies spine sports medicine surgical stapling trauma uterine pelvic vascular acc\n",
      "ower tools shoulder spine surgical stapling trauma uterine pelvic vascular acc\n",
      "ies spine sports medicine surgical stapling trauma uterine pelvic vascular acc\n"
     ]
    }
   ],
   "source": [
    "myjtext.concordance(term9)"
   ]
  },
  {
   "cell_type": "code",
   "execution_count": 83,
   "metadata": {},
   "outputs": [
    {
     "data": {
      "text/plain": [
       "67"
      ]
     },
     "execution_count": 83,
     "metadata": {},
     "output_type": "execute_result"
    }
   ],
   "source": [
    "term10=\"catheters\"\n",
    "scounter[term10]"
   ]
  },
  {
   "cell_type": "code",
   "execution_count": 84,
   "metadata": {},
   "outputs": [
    {
     "data": {
      "text/plain": [
       "21"
      ]
     },
     "execution_count": 84,
     "metadata": {},
     "output_type": "execute_result"
    }
   ],
   "source": [
    "jcounter[term10]"
   ]
  },
  {
   "cell_type": "code",
   "execution_count": 85,
   "metadata": {},
   "outputs": [
    {
     "name": "stdout",
     "output_type": "stream",
     "text": [
      "Displaying 25 of 67 matches:\n",
      "ography catheter electrophysiology catheters electrophysiology cables resources\n",
      "ography catheter electrophysiology catheters electrophysiology cables resources\n",
      "ography catheter electrophysiology catheters electrophysiology cables resources\n",
      "dr legal contact electrophysiology catheters includes ep catheters originally m\n",
      "rophysiology catheters includes ep catheters originally manufactured bard biose\n",
      "nic jude medical electrophysiology catheters cedu product use reprocessing coll\n",
      "essing decontamination accepted ep catheters undergo prolonged cleaning rinsing\n",
      " tip protectors placed fixed curve catheters ensure radius curvature remains un\n",
      "n units per device collection wipe catheters wet gauze remove excess loosely co\n",
      " place stryker provided collection catheters complex need packaged universal co\n",
      "y cost reductions recycling select catheters removal waste ep labs eligible pro\n",
      "t confidently outsourcing risks ep catheters sales sheet lasso nav eco catheter\n",
      "atheters sales sheet lasso nav eco catheters sales sheet clinical papers collec\n",
      "ography catheter electrophysiology catheters electrophysiology cables resources\n",
      "ography catheter electrophysiology catheters electrophysiology cables resources\n",
      "ography catheter electrophysiology catheters electrophysiology cables resources\n",
      " ep lab includes electrophysiology catheters imaging mapping catheters introduc\n",
      "ysiology catheters imaging mapping catheters introducer learn making sure patie\n",
      "ography catheter electrophysiology catheters electrophysiology cables resources\n",
      "ography catheter electrophysiology catheters electrophysiology cables resources\n",
      "edu reprocessed products ep lab ep catheters ep cables intracardiac echocardiog\n",
      "identity control identification ep catheters individualized serial numbers uniq\n",
      "onality reliability reprocessed ep catheters material integrity integrity mater\n",
      "extra work hospital staff place ep catheters diagnostic ultrasound catheters ca\n",
      "ep catheters diagnostic ultrasound catheters catheter introducer sheaths clear \n"
     ]
    }
   ],
   "source": [
    "mystext.concordance(term10)"
   ]
  },
  {
   "cell_type": "code",
   "execution_count": 86,
   "metadata": {},
   "outputs": [
    {
     "name": "stdout",
     "output_type": "stream",
     "text": [
      "Displaying 21 of 21 matches:\n",
      " system carto software therapeutic catheters diagnostic catheters ultrasound ca\n",
      "e therapeutic catheters diagnostic catheters ultrasound catheters accessories g\n",
      "rs diagnostic catheters ultrasound catheters accessories generators cables acce\n",
      "cess cartonet products therapeutic catheters diagnostic catheters ultrasound ca\n",
      "s therapeutic catheters diagnostic catheters ultrasound catheters cables access\n",
      "rs diagnostic catheters ultrasound catheters cables access physicians electroph\n",
      "m carto software carto therapeutic catheters carto diagnostic catheters carto u\n",
      "apeutic catheters carto diagnostic catheters carto ultrasound catheters carto a\n",
      "gnostic catheters carto ultrasound catheters carto accessories carto generators\n",
      " carto access cartonet therapeutic catheters diagnostic catheters ultrasound ca\n",
      "t therapeutic catheters diagnostic catheters ultrasound catheters cables access\n",
      "rs diagnostic catheters ultrasound catheters cables access search find solution\n",
      "tion advamed thermocool navigation catheters approved drug refractory recurrent\n",
      "mocool biosense webster thermocool catheters indicated type atrial flutter pati\n",
      "ian europace thermocool navigation catheters approved recurrent refractory sust\n",
      "thermocool ez steer thermocool nav catheters fda approved treatment drug refrac\n",
      "apping biosense webster thermocool catheters indicated treatment type atrial fl\n",
      "e recommend settings carto visitag catheters celsius ez steer creation endocard\n",
      "iopsy forceps ep lab ep diagnostic catheters ep cables ultrasound catheters ste\n",
      "tic catheters ep cables ultrasound catheters steerable introducer bluflex pleas\n",
      "ed use ages years balloon dilation catheters used supervision physicians thorou\n"
     ]
    }
   ],
   "source": [
    "myjtext.concordance(term10)"
   ]
  },
  {
   "cell_type": "code",
   "execution_count": 87,
   "metadata": {},
   "outputs": [
    {
     "data": {
      "text/plain": [
       "99"
      ]
     },
     "execution_count": 87,
     "metadata": {},
     "output_type": "execute_result"
    }
   ],
   "source": [
    "term12=\"cables\"\n",
    "scounter[term12]"
   ]
  },
  {
   "cell_type": "code",
   "execution_count": 88,
   "metadata": {},
   "outputs": [
    {
     "data": {
      "text/plain": [
       "6"
      ]
     },
     "execution_count": 88,
     "metadata": {},
     "output_type": "execute_result"
    }
   ],
   "source": [
    "jcounter[term12]"
   ]
  },
  {
   "cell_type": "code",
   "execution_count": 89,
   "metadata": {
    "scrolled": true
   },
   "outputs": [
    {
     "name": "stdout",
     "output_type": "stream",
     "text": [
      "Displaying 25 of 99 matches:\n",
      "bosis compression sleeves ecg leads cables fall alarms air transfer mats patie\n",
      "siology catheters electrophysiology cables resources press ifu stryker hygia a\n",
      "bosis compression sleeves ecg leads cables fall alarms air transfer mats patie\n",
      "siology catheters electrophysiology cables resources press ifu stryker hygia a\n",
      "bosis compression sleeves ecg leads cables fall alarms air transfer mats patie\n",
      "siology catheters electrophysiology cables resources press ifu stryker hygia a\n",
      "s platinum plus program brochure ep cables sales sheet confidently outsourcing\n",
      "bosis compression sleeves ecg leads cables fall alarms air transfer mats patie\n",
      "siology catheters electrophysiology cables resources press ifu stryker hygia a\n",
      "bosis compression sleeves ecg leads cables fall alarms air transfer mats patie\n",
      "siology catheters electrophysiology cables resources press ifu stryker hygia a\n",
      "bosis compression sleeves ecg leads cables fall alarms air transfer mats patie\n",
      "siology catheters electrophysiology cables resources press ifu stryker hygia a\n",
      "bosis compression sleeves ecg leads cables fall alarms air transfer mats patie\n",
      "siology catheters electrophysiology cables resources press ifu stryker hygia a\n",
      "bosis compression sleeves ecg leads cables fall alarms air transfer mats patie\n",
      "siology catheters electrophysiology cables resources press ifu stryker hygia a\n",
      "sed products ep lab ep catheters ep cables intracardiac echocardiography cathe\n",
      "bosis compression sleeves ecg leads cables fall alarms air transfer mats patie\n",
      "siology catheters electrophysiology cables resources press ifu stryker hygia a\n",
      "bosis compression sleeves ecg leads cables fall alarms air transfer mats patie\n",
      "siology catheters electrophysiology cables resources press ifu stryker hygia a\n",
      "bosis compression sleeves ecg leads cables fall alarms air transfer mats patie\n",
      "siology catheters electrophysiology cables resources press ifu stryker hygia a\n",
      "bosis compression sleeves ecg leads cables fall alarms air transfer mats patie\n"
     ]
    }
   ],
   "source": [
    "mystext.concordance(term12)"
   ]
  },
  {
   "cell_type": "code",
   "execution_count": 95,
   "metadata": {},
   "outputs": [
    {
     "name": "stdout",
     "output_type": "stream",
     "text": [
      "Displaying 6 of 6 matches:\n",
      "nd catheters accessories generators cables access cartonet products therapeuti\n",
      "stic catheters ultrasound catheters cables access physicians electrophysiologi\n",
      " accessories carto generators carto cables carto access cartonet therapeutic c\n",
      "stic catheters ultrasound catheters cables access search find solution electro\n",
      "n sleeves pulse oximeter probes ekg cables lead wires operating room laparosco\n",
      "s ep lab ep diagnostic catheters ep cables ultrasound catheters steerable intr\n"
     ]
    }
   ],
   "source": [
    "myjtext.concordance(term12)"
   ]
  },
  {
   "cell_type": "markdown",
   "metadata": {},
   "source": [
    "I built another lexical dispersion plot to display the produt terms I analyzed above."
   ]
  },
  {
   "cell_type": "code",
   "execution_count": 90,
   "metadata": {},
   "outputs": [
    {
     "data": {
      "image/png": "[encoded data removed]",
      "text/plain": [
       "<Figure size 432x288 with 1 Axes>"
      ]
     },
     "metadata": {
      "needs_background": "light"
     },
     "output_type": "display_data"
    }
   ],
   "source": [
    "product_words=[\"cables\",\"catheters\",\"stapling\",\"harmonic\",\"ligasure\",\"collections\",\"service\",\"sleeve\",\"oximeter\"]\n",
    "mystext.dispersion_plot(product_words)"
   ]
  },
  {
   "cell_type": "code",
   "execution_count": 91,
   "metadata": {},
   "outputs": [
    {
     "data": {
      "image/png": "[encoded data removed]",
      "text/plain": [
       "<Figure size 432x288 with 1 Axes>"
      ]
     },
     "metadata": {
      "needs_background": "light"
     },
     "output_type": "display_data"
    }
   ],
   "source": [
    "myjtext.dispersion_plot(product_words)"
   ]
  },
  {
   "cell_type": "code",
   "execution_count": 92,
   "metadata": {},
   "outputs": [],
   "source": [
    "#finding unusual words in the stryker words list,  I couldn't make it work without a set?\n",
    "# So now I am going to find the unusual words that Stryker uses that Johnson uses and do a dipersion plot showing them\n",
    "    \n",
    "regular_s= set(swords)\n",
    "english_s=set(word.lower() for word in nltk.corpus.words.words())\n",
    "unusual_s=regular_s- english_s\n",
    "\n",
    "\n",
    "#sterile med\n",
    "regular_j=set(jwords)\n",
    "english_j=set(word.lower() for word in nltk.corpus.words.words())\n",
    "unusual_j=regular_j- english_j\n",
    "       "
   ]
  },
  {
   "cell_type": "code",
   "execution_count": 93,
   "metadata": {},
   "outputs": [
    {
     "name": "stdout",
     "output_type": "stream",
     "text": [
      "418\n"
     ]
    },
    {
     "data": {
      "text/plain": [
       "[('quantities', 1),\n",
       " ('officials', 1),\n",
       " ('ligasure', 1),\n",
       " ('fragments', 1),\n",
       " ('champions', 1),\n",
       " ('injuries', 1),\n",
       " ('logo', 1),\n",
       " ('circuitry', 1),\n",
       " ('hukill', 1),\n",
       " ('sonicated', 1),\n",
       " ('prevalon', 1),\n",
       " ('guidances', 1),\n",
       " ('ccs', 1),\n",
       " ('liters', 1),\n",
       " ('disposables', 1),\n",
       " ('foia', 1),\n",
       " ('clearnace', 1),\n",
       " ('completes', 1),\n",
       " ('separated', 1),\n",
       " ('scalpels', 1),\n",
       " ('burs', 1),\n",
       " ('polyol', 1),\n",
       " ('trees', 1),\n",
       " ('biologics', 1),\n",
       " ('echocardiography', 1),\n",
       " ('acunav', 1),\n",
       " ('parts', 1),\n",
       " ('rd', 1),\n",
       " ('passers', 1),\n",
       " ('heated', 1),\n",
       " ('mortenson', 1),\n",
       " ('inflates', 1),\n",
       " ('handles', 1),\n",
       " ('sections', 1),\n",
       " ('agilis', 1),\n",
       " ('impulses', 1),\n",
       " ('reductions', 1),\n",
       " ('bandwidth', 1),\n",
       " ('inprela', 1),\n",
       " ('simulates', 1),\n",
       " ('announcements', 1),\n",
       " ('viewers', 1),\n",
       " ('activated', 1),\n",
       " ('positioners', 1),\n",
       " ('stores', 1),\n",
       " ('extremities', 1),\n",
       " ('transmitted', 1),\n",
       " ('detergents', 1),\n",
       " ('inserts', 1),\n",
       " ('rx', 1)]"
      ]
     },
     "execution_count": 93,
     "metadata": {},
     "output_type": "execute_result"
    }
   ],
   "source": [
    "#Now I am making the list of unique words that Stryker uses and Sterile Med does not\n",
    "\n",
    "unique=unusual_s-unusual_j\n",
    "print(len(unique))\n",
    "\n",
    "print(unique)\n",
    "\n",
    "\n",
    "    \n",
    "\n"
   ]
  }
 ],
 "metadata": {
  "kernelspec": {
   "display_name": "Python 3",
   "language": "python",
   "name": "python3"
  },
  "language_info": {
   "codemirror_mode": {
    "name": "ipython",
    "version": 3
   },
   "file_extension": ".py",
   "mimetype": "text/x-python",
   "name": "python",
   "nbconvert_exporter": "python",
   "pygments_lexer": "ipython3",
   "version": "3.7.3"
  }
 },
 "nbformat": 4,
 "nbformat_minor": 2
}
