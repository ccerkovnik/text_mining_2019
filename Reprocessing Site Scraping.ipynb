{
 "cells": [
  {
   "cell_type": "markdown",
   "metadata": {},
   "source": [
    "Doing Import for Sqlite and modules for webscraping"
   ]
  },
  {
   "cell_type": "code",
   "execution_count": 1,
   "metadata": {},
   "outputs": [],
   "source": [
    "import sqlite3\n",
    "import requests\n",
    "\n",
    "from bs4 import BeautifulSoup \n",
    "from bs4.element import Comment\n",
    "\n",
    "\n",
    "\n",
    "import datetime  \n",
    "import re \n",
    "from collections import Counter, defaultdict\n",
    "import nltk"
   ]
  },
  {
   "cell_type": "code",
   "execution_count": 2,
   "metadata": {},
   "outputs": [],
   "source": [
    "sites=[] #writing all the sites to a list\n",
    "with open(\"repo_sites.txt\",'r')as ifile:\n",
    "    for line in ifile:\n",
    "        sites.append(line.strip())"
   ]
  },
  {
   "cell_type": "code",
   "execution_count": 3,
   "metadata": {},
   "outputs": [
    {
     "data": {
      "text/plain": [
       "['http://sustainability.stryker.com/',\n",
       " 'https://www.jnjmedicaldevices.com/en-US/service/reprocessing']"
      ]
     },
     "execution_count": 3,
     "metadata": {},
     "output_type": "execute_result"
    }
   ],
   "source": [
    "sites"
   ]
  },
  {
   "cell_type": "code",
   "execution_count": 4,
   "metadata": {},
   "outputs": [],
   "source": [
    "db = sqlite3.connect(\"reprocessing_competitors.db\") # creating connection to DB\n",
    "cur = db.cursor()"
   ]
  },
  {
   "cell_type": "code",
   "execution_count": 5,
   "metadata": {},
   "outputs": [],
   "source": [
    "# Creating table in reporcessing_competitors.db\n",
    "cur.execute('''DROP TABLE IF EXISTS site_text''')\n",
    "cur.execute('''CREATE TABLE site_text (\n",
    "    dt DATETIME, \n",
    "    base_url TEXT, \n",
    "    url TEXT,\n",
    "    text TEXT,\n",
    "    pulled BOOLEAN)''')\n",
    "db.commit()"
   ]
  },
  {
   "cell_type": "code",
   "execution_count": 6,
   "metadata": {},
   "outputs": [],
   "source": [
    "# pulling all tags, putting them in a list and uploading\n",
    "for repo_sites in sites:\n",
    "    r = requests.get(repo_sites)\n",
    "    soup = BeautifulSoup(r.text, 'html.parser')\n",
    "    all_a_tags = soup.find_all('a')\n",
    "    \n",
    "    links = [repo_sites] \n",
    "    \n",
    "    for link in soup.find_all('a'):\n",
    "        links.append(link.get('href'))\n",
    "        \n",
    "    for link in set(links) : #set gets rid of duplicate links\n",
    "        new_row = [datetime.datetime.now(),\n",
    "                   repo_sites,\n",
    "                   link,\n",
    "                   \"\", # empty string for text\n",
    "                   False]\n",
    "        \n",
    "        cur.execute('''INSERT INTO site_text (dt,base_url,url,text,pulled) \n",
    "               VALUES (?,?,?,?,?)''',new_row) # inserting list into our DB\n",
    "        \n",
    "db.commit()\n",
    "    "
   ]
  },
  {
   "cell_type": "code",
   "execution_count": 7,
   "metadata": {},
   "outputs": [
    {
     "name": "stdout",
     "output_type": "stream",
     "text": [
      "Original site https://www.jnjmedicaldevices.com/en-US/service/reprocessing has 97 links within it.\n",
      "Original site http://sustainability.stryker.com/ has 62 links within it.\n"
     ]
    }
   ],
   "source": [
    "# checking how many links of each website we pulled\n",
    "results = cur.execute('''SELECT base_url, count(*) as cnt FROM site_text GROUP BY base_url ORDER BY cnt DESC''')\n",
    "\n",
    "for row in results :\n",
    "    print(\"Original site {} has {} links within it.\".format(row[0],row[1]))"
   ]
  },
  {
   "cell_type": "code",
   "execution_count": 8,
   "metadata": {},
   "outputs": [],
   "source": [
    "# function from class that gets rid of all the unledgibale text types like headers and footers\n",
    "def tag_visible(element):\n",
    "    if element.parent.name in ['style', 'script', 'head', 'title', 'meta', '[document]']:\n",
    "        return False\n",
    "    if isinstance(element, Comment):\n",
    "        return False\n",
    "    return True"
   ]
  },
  {
   "cell_type": "code",
   "execution_count": 9,
   "metadata": {},
   "outputs": [
    {
     "data": {
      "text/plain": [
       "['https://www.jnjmedicaldevices.com/en-US/service/reprocessing',\n",
       " '#main-content',\n",
       " '/en-US',\n",
       " '/en-US/home',\n",
       " '/en-US',\n",
       " '#',\n",
       " 'https://www.jnjmedicaldevices.com/en-US/companies/acclarent',\n",
       " 'https://www.biosensewebster.com',\n",
       " 'http://www.cerenovus.com/',\n",
       " 'https://www.jnjmedicaldevices.com/en-US/companies/depuy-synthes',\n",
       " '/en-US/companies/ethicon',\n",
       " '/en-US/companies/mentor',\n",
       " 'https://www.jnjmedicaldevices.com/en-US/service/reprocessing',\n",
       " '/en-US/products',\n",
       " '#',\n",
       " '/en-US/products',\n",
       " '/en-US/product-family/access',\n",
       " '/en-US/product-family/adjunctive-hemostats',\n",
       " '/en-US/product-family/airway-balloon-dilation-system',\n",
       " '/en-US/product-family/balloon-sinuplasty',\n",
       " '/en-US/product-family/breast-augmentation',\n",
       " '/en-US/product-family/breast-reconstruction',\n",
       " 'https://www.jnjmedicaldevices.com/en-US/products?jnjmdc_product_franchise_target_id%5B76%5D=76&jnjmdc_product_category_ref_target_id%5B2191%5D=2191&items_per_page=20',\n",
       " '/en-US/product-family/energy-sealing-dissecting',\n",
       " '/en-US/product-family/eustachian-tube-balloon-dilation-system',\n",
       " 'https://www.jnjmedicaldevices.com/en-US/products?jnjmdc_product_franchise_target_id%5B76%5D=76&jnjmdc_product_category_ref_target_id%5B2656%5D=2656&items_per_page=20',\n",
       " '/en-US/product-family/hernia-mesh-fixation',\n",
       " 'https://www.jnjmedicaldevices.com/en-US/products?jnjmdc_product_franchise_target_id%5B76%5D=76&jnjmdc_product_category_ref_target_id%5B2671%5D=2671&items_per_page=20',\n",
       " 'https://www.jnjmedicaldevices.com/en-US/products?jnjmdc_product_franchise_target_id%5B76%5D=76&jnjmdc_product_category_ref_target_id%5B2666%5D=2666&items_per_page=20',\n",
       " 'https://www.jnjmedicaldevices.com/en-US/products?jnjmdc_product_franchise_target_id%5B76%5D=76&jnjmdc_product_category_ref_target_id%5B2676%5D=2676&items_per_page=20',\n",
       " '/en-US/product-family/ligation',\n",
       " '/en-US/product/linx-reflux-management-system',\n",
       " '/en-US/product/neuwave-microwave-ablation-system',\n",
       " '/en-US/product-family/nasal-dilation-system',\n",
       " '/en-US/product-family/navigation',\n",
       " 'https://www.jnjmedicaldevices.com/en-US/products?jnjmdc_product_franchise_target_id%5B76%5D=76&jnjmdc_product_category_ref_target_id%5B2696%5D=2696&items_per_page=20',\n",
       " 'https://www.jnjmedicaldevices.com/en-US/products?jnjmdc_product_franchise_target_id%5B76%5D=76&jnjmdc_product_category_ref_target_id%5B2681%5D=2681&items_per_page=20',\n",
       " '/en-US/product-family/sinus-surgeries',\n",
       " 'https://www.jnjmedicaldevices.com/en-US/products?jnjmdc_product_franchise_target_id%5B76%5D=76&jnjmdc_product_category_ref_target_id%5B2686%5D=2686&items_per_page=20',\n",
       " 'https://www.jnjmedicaldevices.com/en-US/products?jnjmdc_product_franchise_target_id%5B76%5D=76&jnjmdc_product_category_ref_target_id%5B2691%5D=2691&items_per_page=20',\n",
       " '/en-US/product-family/surgical-stapling',\n",
       " 'https://www.jnjmedicaldevices.com/en-US/products?jnjmdc_product_franchise_target_id%5B76%5D=76&jnjmdc_product_category_ref_target_id%5B2661%5D=2661&items_per_page=20',\n",
       " '/en-US/product-family/uterine-pelvic',\n",
       " '/en-US/product/biopatch-protective-disk-chg',\n",
       " '/en-US/product-family/wound-closure',\n",
       " '',\n",
       " '#',\n",
       " '/en-US/specialties',\n",
       " '/en-US/procedure',\n",
       " '/en-US/service/careadvantage',\n",
       " '#',\n",
       " '/en-US/service/careadvantage',\n",
       " '/en-US/service/careadvantage/caresense',\n",
       " 'https://www.jnjmedicaldevices.com/en-US/service-details/cleaning-sterilization-guidelines/depuy-synthes',\n",
       " '/en-US/service/careadvantage/healthy-workforce',\n",
       " '/en-US/service/careadvantage/hip-fracture-care',\n",
       " '/en-US/service/careadvantage/infection-risk-management',\n",
       " 'https://www.jnjmedicaldevices.com/en-US/support/loaner-program/depuy-synthes',\n",
       " 'https://www.jnjmedicaldevices.com/en-US/service/matrixrib-care-program',\n",
       " '/en-US/service/mentor/new-practice-program',\n",
       " 'https://www.jnjmedicaldevices.com/en-US/service-details/mentor-warranty-information',\n",
       " '/en-US/service-details/total-joints-asc',\n",
       " '/en-US/service/careadvantage/perioperative-efficiency',\n",
       " '/en-US/service/reprocessing',\n",
       " '/en-US/node/10676',\n",
       " '/en-US/service/careadvantage/supply-chain-optimization',\n",
       " '/en-US/news-events',\n",
       " '',\n",
       " '#',\n",
       " 'https://www.jnjmedicaldevices.com/en-US/depuy-asr-hip-recall-contact-information',\n",
       " '/en-US/contact-us',\n",
       " 'https://www.jnjmedicaldevices.com/en-US/support/california-compliance',\n",
       " '/en-US/support/contributions-donations',\n",
       " '/en-US/support/education-grants',\n",
       " 'https://www.ethicon.com/na/epc?lang=en-default',\n",
       " '/en-US/support/exhibits-sponsorships',\n",
       " '/en-US/support/fellowships/depuy-synthes',\n",
       " 'https://www.e-ifu.com/',\n",
       " 'https://www.jnjmedicaldevices.com/en-US/support/investigator-initiated-studies',\n",
       " 'https://jnjinstitute.com/',\n",
       " 'https://www.jnjinnovation.com/innovation-centers',\n",
       " '/en-US/policies-legal',\n",
       " '/en-US/mir',\n",
       " '/en-US/support/reimbursement',\n",
       " '',\n",
       " '#',\n",
       " '/en-US/OurCredo',\n",
       " 'http://www.investor.jnj.com/',\n",
       " 'http://www.investor.jnj.com/gov/annualmeetingmaterials.cfm',\n",
       " 'https://www.jnj.com/leadership/our-leadership-team',\n",
       " 'https://www.careers.jnj.com/',\n",
       " 'https://www.jnj.com/caring',\n",
       " 'https://www.jnj.com/code-of-business-conduct',\n",
       " 'https://www.jnj.com/about-jnj/policies-and-statements',\n",
       " '#collapseIpDetection',\n",
       " '/node/11',\n",
       " '#',\n",
       " '#',\n",
       " '/en-US/global',\n",
       " '/en-US',\n",
       " None,\n",
       " '/cdn-cgi/l/email-protection#3043445542595c5d55545343705944431e5a5e5a1e535f5d',\n",
       " 'https://www.jnjmedicaldevices.com/en-US/service-details/sustainability',\n",
       " 'https://www.jnjmedicaldevices.com/en-US/service-details/products-services',\n",
       " 'https://www.jnjmedicaldevices.com/sites/default/files/user_uploaded_assets/pdf_assets/2019-01/076585-170906_CareAdvantage%20SUS%20Case%20study%20001%20--%20blinded_0.pdf',\n",
       " 'https://www.e-ifu.com/',\n",
       " 'https://www.e-ifu.com/symbols-glossary',\n",
       " 'https://www.jnjmedicaldevices.com/sites/default/files/user_uploaded_assets/pdf_assets/2019-04/JJMDC%20RPO%20FAQs.pdf',\n",
       " None,\n",
       " None,\n",
       " 'https://www.jnj.com/',\n",
       " 'https://twitter.com/jnjmeddevices',\n",
       " 'https://www.linkedin.com/showcase/johnson-&-johnson-medical-devices-companies/',\n",
       " '/en-US/policies-privacy',\n",
       " '/en-US/policies-legal']"
      ]
     },
     "execution_count": 9,
     "metadata": {},
     "output_type": "execute_result"
    }
   ],
   "source": [
    "links\n"
   ]
  },
  {
   "cell_type": "code",
   "execution_count": 10,
   "metadata": {
    "scrolled": true
   },
   "outputs": [
    {
     "name": "stdout",
     "output_type": "stream",
     "text": [
      "Completed pull for http://sustainability.stryker.com/.\n",
      "Completed pull for https://www.jnjmedicaldevices.com/en-US/service/reprocessing.\n"
     ]
    }
   ],
   "source": [
    "max_pages = -1 #putting a limit on the pages\n",
    "\n",
    "do_break = False\n",
    "\n",
    "for repo_sites in sites :\n",
    "    \n",
    "    \n",
    "    links = []\n",
    "    \n",
    "    sql_query = \"SELECT url FROM site_text WHERE base_url = '{}' AND pulled = 0\".format(repo_sites)    \n",
    "    link_results = cur.execute(sql_query)\n",
    "\n",
    "    for row in link_results :\n",
    "        links.append(row[0])\n",
    "    \n",
    "            \n",
    "    #If max_pages is non-negative take a sample of the links\n",
    "    if max_pages < 1 or len(links) < max_pages :\n",
    "        pages_to_pull = links\n",
    "    else :\n",
    "        pages_to_pull = random.sample(links,max_pages) \n",
    "        \n",
    "    for page in pages_to_pull :\n",
    "        page_text = '' # initialize it to an empty string\n",
    "        \n",
    "        \n",
    "        \n",
    "        if page and \"#\" in page : # Skips tabs\n",
    "            \n",
    "            if page[0] == r\"#\" : \n",
    "                page = page[1:]\n",
    "\n",
    "               \n",
    "            \n",
    "        try :\n",
    "            r = requests.get(page)\n",
    "        except :\n",
    "            pass \n",
    "\n",
    "        if r.status_code == 200 :\n",
    "            soup = BeautifulSoup(r.text, 'html.parser')\n",
    "            texts = soup.findAll(text=True)\n",
    "            visible_texts = filter(tag_visible, texts) \n",
    "            page_text = \" \".join(t.strip() for t in visible_texts)\n",
    "\n",
    "        #Update DB\n",
    "        sql_query = ('UPDATE site_text '\n",
    "                     'SET text = ? '\n",
    "                     'WHERE url = ? ' )\n",
    "        \n",
    "       \n",
    "        cur.execute(sql_query,[page_text,page])\n",
    "        \n",
    "        sql_query = ('UPDATE site_text '\n",
    "                     'SET pulled = 1 '\n",
    "                     'WHERE url = ? ' )\n",
    "        \n",
    "        \n",
    "        cur.execute(sql_query,[page])\n",
    "\n",
    "        sql_query = ('UPDATE site_text '\n",
    "                     'SET dt = ? '\n",
    "                     'WHERE url = ? ' )\n",
    "        \n",
    "      \n",
    "        cur.execute(sql_query,[datetime.datetime.now(),page])\n",
    "        \n",
    "    print(\"Completed pull for {}.\".format(repo_sites))\n",
    "\n",
    "db.commit()     "
   ]
  },
  {
   "cell_type": "markdown",
   "metadata": {},
   "source": [
    "Some of the links were null so i deleted the tags that were not pulled"
   ]
  },
  {
   "cell_type": "code",
   "execution_count": 11,
   "metadata": {},
   "outputs": [],
   "source": [
    "sql_query= ' DELETE FROM site_text WHERE pulled=0 '\n",
    "cleaner = cur.execute(sql_query)\n",
    "\n",
    "db.commit()\n"
   ]
  },
  {
   "cell_type": "markdown",
   "metadata": {},
   "source": [
    "Another problem was I had some links that were marked as blob and they were just miilions of random characters.  To get rid of them I did it a little none programatically.  There were only three so I just set the cell as null and then deleted the rows"
   ]
  },
  {
   "cell_type": "code",
   "execution_count": 15,
   "metadata": {},
   "outputs": [],
   "source": [
    "sql_query= ' DELETE FROM site_text WHERE text IS NULL '\n",
    "cleaner = cur.execute(sql_query)\n",
    "\n",
    "db.commit()\n"
   ]
  },
  {
   "cell_type": "code",
   "execution_count": 6,
   "metadata": {},
   "outputs": [],
   "source": [
    "db = sqlite3.connect(\"reprocessing_competitors.db\") # creating connection to DB\n",
    "cur = db.cursor()"
   ]
  },
  {
   "cell_type": "code",
   "execution_count": 9,
   "metadata": {},
   "outputs": [
    {
     "ename": "OperationalError",
     "evalue": "no tables specified",
     "output_type": "error",
     "traceback": [
      "\u001b[0;31m---------------------------------------------------------------------------\u001b[0m",
      "\u001b[0;31mOperationalError\u001b[0m                          Traceback (most recent call last)",
      "\u001b[0;32m<ipython-input-9-517422226184>\u001b[0m in \u001b[0;36m<module>\u001b[0;34m\u001b[0m\n\u001b[1;32m      4\u001b[0m \u001b[0;34m'GROUP BY dt, base_url, url, text, pulled'\u001b[0m\u001b[0;34m\u001b[0m\u001b[0;34m\u001b[0m\u001b[0m\n\u001b[1;32m      5\u001b[0m \u001b[0;34m\u001b[0m\u001b[0m\n\u001b[0;32m----> 6\u001b[0;31m \u001b[0mnt\u001b[0m\u001b[0;34m=\u001b[0m \u001b[0mcur\u001b[0m\u001b[0;34m.\u001b[0m\u001b[0mexecute\u001b[0m\u001b[0;34m(\u001b[0m\u001b[0ms_query\u001b[0m\u001b[0;34m)\u001b[0m\u001b[0;34m\u001b[0m\u001b[0;34m\u001b[0m\u001b[0m\n\u001b[0m\u001b[1;32m      7\u001b[0m \u001b[0;34m\u001b[0m\u001b[0m\n\u001b[1;32m      8\u001b[0m \u001b[0mdb\u001b[0m\u001b[0;34m.\u001b[0m\u001b[0mcommit\u001b[0m\u001b[0;34m(\u001b[0m\u001b[0;34m)\u001b[0m\u001b[0;34m\u001b[0m\u001b[0;34m\u001b[0m\u001b[0m\n",
      "\u001b[0;31mOperationalError\u001b[0m: no tables specified"
     ]
    }
   ],
   "source": [
    "stryker= cur.execute('''SELECT * FROM site_text\n",
    "                                    )\n"
   ]
  },
  {
   "cell_type": "code",
   "execution_count": null,
   "metadata": {},
   "outputs": [],
   "source": []
  },
  {
   "cell_type": "code",
   "execution_count": null,
   "metadata": {},
   "outputs": [],
   "source": []
  }
 ],
 "metadata": {
  "kernelspec": {
   "display_name": "Python 3",
   "language": "python",
   "name": "python3"
  },
  "language_info": {
   "codemirror_mode": {
    "name": "ipython",
    "version": 3
   },
   "file_extension": ".py",
   "mimetype": "text/x-python",
   "name": "python",
   "nbconvert_exporter": "python",
   "pygments_lexer": "ipython3",
   "version": "3.7.3"
  }
 },
 "nbformat": 4,
 "nbformat_minor": 2
}
